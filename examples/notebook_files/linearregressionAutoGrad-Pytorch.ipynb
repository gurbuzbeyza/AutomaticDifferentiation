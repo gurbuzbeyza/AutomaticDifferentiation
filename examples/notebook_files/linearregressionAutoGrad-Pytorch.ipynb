{
 "cells": [
  {
   "cell_type": "markdown",
   "metadata": {},
   "source": [
    "# linear regression AutoGrad"
   ]
  },
  {
   "cell_type": "code",
   "execution_count": 1,
   "metadata": {},
   "outputs": [],
   "source": [
    "import autograd.numpy as np\n",
    "import matplotlib.pyplot as plt\n",
    "import time\n",
    "\n",
    "from autograd import grad"
   ]
  },
  {
   "cell_type": "code",
   "execution_count": 2,
   "metadata": {},
   "outputs": [],
   "source": [
    "np.random.seed(1)\n",
    "n_samples = 50\n",
    "X_data = np.linspace(1, 50, n_samples).reshape((n_samples, 1))\n",
    "Y = 10*X_data + 6 + 10*np.random.randn(n_samples).reshape((n_samples, 1))\n",
    "# Y = Y.reshape((n_samples, 1))\n",
    "X = np.hstack([X_data, np.ones((n_samples, 1))])\n",
    "f = open('dataset', 'w+')\n",
    "f2 = open('label', 'w+')\n",
    "for x in X.tolist():\n",
    "    f.write(str(x[0]) + '\\n')\n",
    "for y in Y.tolist():\n",
    "    f2.write(str(y[0]) + '\\n')\n",
    "f.close()\n",
    "f2.close()\n"
   ]
  },
  {
   "cell_type": "code",
   "execution_count": 3,
   "metadata": {},
   "outputs": [],
   "source": [
    "def cost(w):\n",
    "    pred = np.dot(X, w)\n",
    "    return np.sqrt(((pred - Y) ** 2).mean(axis=None))"
   ]
  },
  {
   "cell_type": "code",
   "execution_count": 4,
   "metadata": {},
   "outputs": [
    {
     "name": "stdout",
     "output_type": "stream",
     "text": [
      "itr: 1000\n",
      "9.72683588618796 [[10.16907931]\n",
      " [ 0.73121202]]\n",
      "999\n",
      "--- 0.379457950592041 seconds ---\n",
      "itr: 10000\n",
      "9.622738306733089 [[10.09186805]\n",
      " [ 3.32992384]]\n",
      "9999\n",
      "--- 3.786053419113159 seconds ---\n",
      "itr: 100000\n",
      "9.621616795545814 [[10.0830056]\n",
      " [ 3.6282086]]\n",
      "99999\n",
      "--- 37.526790618896484 seconds ---\n"
     ]
    }
   ],
   "source": [
    "for itr in[1000,10000,100000]:\n",
    "    print('itr: '+str(itr))\n",
    "    start_time = time.time()\n",
    "\n",
    "\n",
    "\n",
    "    grad_cost= grad(cost)\n",
    "\n",
    "    W = np.random.randn()\n",
    "    b =np.random.randn()\n",
    "    Weights = np.array([W, b]).reshape((2, 1))\n",
    "    for i in range(0,itr):\n",
    "        temp = Weights\n",
    "        Weights = Weights - grad_cost(Weights)*0.01\n",
    "    print (cost(Weights), Weights)\n",
    "    print(i)\n",
    "    print(\"--- %s seconds ---\" % (time.time() - start_time))"
   ]
  },
  {
   "cell_type": "code",
   "execution_count": null,
   "metadata": {},
   "outputs": [],
   "source": []
  },
  {
   "cell_type": "markdown",
   "metadata": {
    "collapsed": true
   },
   "source": [
    "# linear regression pytorch"
   ]
  },
  {
   "cell_type": "code",
   "execution_count": 9,
   "metadata": {},
   "outputs": [],
   "source": [
    "from sklearn.datasets import load_boston\n",
    "import torch\n",
    "import pandas as pd\n",
    "import matplotlib.pyplot as plt\n",
    "import torch.nn.functional as F\n",
    "import torch.nn as nn\n",
    "from torch.autograd import Variable"
   ]
  },
  {
   "cell_type": "code",
   "execution_count": 10,
   "metadata": {},
   "outputs": [
    {
     "name": "stdout",
     "output_type": "stream",
     "text": [
      "iter: 1000\n",
      "--- 0.252382755279541 seconds ---\n"
     ]
    },
    {
     "data": {
      "image/png": "[encoded data removed]",
      "text/plain": [
       "<Figure size 432x288 with 1 Axes>"
      ]
     },
     "metadata": {},
     "output_type": "display_data"
    },
    {
     "name": "stdout",
     "output_type": "stream",
     "text": [
      "95.6255874633789\n",
      "iter: 10000\n",
      "--- 2.533329725265503 seconds ---\n"
     ]
    },
    {
     "data": {
      "image/png": "[encoded data removed]",
      "text/plain": [
       "<Figure size 432x288 with 1 Axes>"
      ]
     },
     "metadata": {},
     "output_type": "display_data"
    },
    {
     "name": "stdout",
     "output_type": "stream",
     "text": [
      "93.34428405761719\n",
      "iter: 100000\n",
      "--- 25.739325284957886 seconds ---\n"
     ]
    },
    {
     "data": {
      "image/png": "[encoded data removed]",
      "text/plain": [
       "<Figure size 432x288 with 1 Axes>"
      ]
     },
     "metadata": {},
     "output_type": "display_data"
    },
    {
     "name": "stdout",
     "output_type": "stream",
     "text": [
      "92.57568359375\n"
     ]
    }
   ],
   "source": [
    "\n",
    "\n",
    "for itr in [1000,10000,100000]:\n",
    "    print('iter: '+str(itr))\n",
    "    start_time = time.time()\n",
    "    x = X_data\n",
    "    y= Y\n",
    "    x = Variable(torch.from_numpy(x).float())\n",
    "    y = Variable(torch.from_numpy(y).float())\n",
    "\n",
    "    linear = nn.Linear(1, 1)\n",
    "\n",
    "    criterion = torch.nn.MSELoss()\n",
    "    optimizer = torch.optim.SGD(linear.parameters(),lr = 0.0001)\n",
    "    loss2 = []\n",
    "\n",
    "\n",
    "    for i in range(itr):\n",
    "        optimizer.zero_grad()\n",
    "        outputs = linear(x)\n",
    "\n",
    "        loss = criterion(outputs, y)\n",
    "        loss2.append(loss.data[0])\n",
    "        loss.backward()        \n",
    "\n",
    "        optimizer.step()\n",
    "\n",
    "    print(\"--- %s seconds ---\" % (time.time() - start_time))\n",
    "    plt.plot(range(itr), loss2)\n",
    "    plt.show()\n",
    "\n",
    "    print(loss2[-1])\n",
    "\n",
    "#https://discuss.pytorch.org/t/simple-linear-regression-with-pytorch/11070"
   ]
  },
  {
   "cell_type": "code",
   "execution_count": null,
   "metadata": {},
   "outputs": [],
   "source": []
  }
 ],
 "metadata": {
  "kernelspec": {
   "display_name": "Python 3",
   "language": "python",
   "name": "python3"
  },
  "language_info": {
   "codemirror_mode": {
    "name": "ipython",
    "version": 3
   },
   "file_extension": ".py",
   "mimetype": "text/x-python",
   "name": "python",
   "nbconvert_exporter": "python",
   "pygments_lexer": "ipython3",
   "version": "3.5.5"
  },
  "widgets": {
   "state": {},
   "version": "1.1.2"
  }
 },
 "nbformat": 4,
 "nbformat_minor": 2
}
