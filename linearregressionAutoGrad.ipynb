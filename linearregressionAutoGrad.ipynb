{
 "cells": [
  {
   "cell_type": "code",
   "execution_count": 49,
   "metadata": {
    "collapsed": true
   },
   "outputs": [],
   "source": [
    "import autograd.numpy as np\n",
    "import matplotlib.pyplot as plt\n",
    "import time"
   ]
  },
  {
   "cell_type": "code",
   "execution_count": 54,
   "metadata": {},
   "outputs": [
    {
     "name": "stdout",
     "output_type": "stream",
     "text": [
      "9.165578061 [[ 10.07430119]\n",
      " [  2.91336187]]\n",
      "34520\n",
      "--- 9.691534042358398 seconds ---\n"
     ]
    }
   ],
   "source": [
    "start_time = time.time()\n",
    "n_samples = 50\n",
    "X_data = np.linspace(1, 50, n_samples).reshape((n_samples, 1))\n",
    "Y = 10*X_data + 6 + 10*np.random.randn(n_samples).reshape((n_samples, 1))\n",
    "# Y = Y.reshape((n_samples, 1))\n",
    "X = np.hstack([X_data, np.ones((n_samples, 1))])\n",
    "f = open('dataset', 'w+')\n",
    "f2 = open('label', 'w+')\n",
    "for x in X.tolist():\n",
    "    f.write(str(x[0]) + '\\n')\n",
    "for y in Y.tolist():\n",
    "    f2.write(str(y[0]) + '\\n')\n",
    "f.close()\n",
    "f2.close()\n",
    "\n",
    "def cost(w):\n",
    "    pred = np.dot(X, w)\n",
    "    return np.sqrt(((pred - Y) ** 2).mean(axis=None))\n",
    "\n",
    "from autograd import grad\n",
    "grad_cost= grad(cost)\n",
    "\n",
    "W = np.random.randn()\n",
    "b =np.random.randn()\n",
    "Weights = np.array([W, b]).reshape((2, 1))\n",
    "i = 0\n",
    "for i in range(0,100000):\n",
    "#     print (\"*\"*20)\n",
    "#     print (i)\n",
    "#     print (\"*\"*20)\n",
    "#     print (cost(Weights))\n",
    "    temp = Weights\n",
    "    Weights = Weights - grad_cost(Weights)*0.01\n",
    "#     print (abs(Weights[0][0] - temp[0][0]))\n",
    "    if abs(Weights[0][0] - temp[0][0]) < 0.0000001 and abs(Weights[1][0] - temp[1][0]) < 0.0000001:\n",
    "        break\n",
    "#     i+=1\n",
    "print (cost(Weights), Weights)\n",
    "print(i)\n",
    "print(\"--- %s seconds ---\" % (time.time() - start_time))"
   ]
  },
  {
   "cell_type": "code",
   "execution_count": null,
   "metadata": {
    "collapsed": true
   },
   "outputs": [],
   "source": []
  }
 ],
 "metadata": {
  "kernelspec": {
   "display_name": "Python 3",
   "language": "python",
   "name": "python3"
  },
  "language_info": {
   "codemirror_mode": {
    "name": "ipython",
    "version": 3
   },
   "file_extension": ".py",
   "mimetype": "text/x-python",
   "name": "python",
   "nbconvert_exporter": "python",
   "pygments_lexer": "ipython3",
   "version": "3.6.2"
  }
 },
 "nbformat": 4,
 "nbformat_minor": 2
}
